{
 "cells": [
  {
   "cell_type": "markdown",
   "metadata": {},
   "source": [
    "# Importing libraries"
   ]
  },
  {
   "cell_type": "code",
   "execution_count": 1,
   "metadata": {},
   "outputs": [
    {
     "name": "stderr",
     "output_type": "stream",
     "text": [
      "Using TensorFlow backend.\n"
     ]
    }
   ],
   "source": [
    "import re\n",
    "import nltk\n",
    "from nltk.corpus import stopwords\n",
    "from nltk.stem import WordNetLemmatizer\n",
    "import pandas as pd\n",
    "import numpy as np\n",
    "import json\n",
    "import matplotlib.pyplot as plt\n",
    "from collections import Counter\n",
    "import seaborn as sns\n",
    "from sklearn.preprocessing import LabelEncoder,OneHotEncoder\n",
    "from sklearn.model_selection import train_test_split\n",
    "import tensorflow as tf\n",
    "from keras.regularizers import l2\n",
    "from sklearn.metrics import classification_report\n",
    "from sklearn.metrics import confusion_matrix\n",
    "from tensorflow.keras.preprocessing.text import Tokenizer\n",
    "from tensorflow.keras.preprocessing.sequence import pad_sequences"
   ]
  },
  {
   "cell_type": "markdown",
   "metadata": {},
   "source": [
    "## Importing the data"
   ]
  },
  {
   "cell_type": "code",
   "execution_count": 2,
   "metadata": {},
   "outputs": [],
   "source": [
    "with open(\"response.json\",\"r\") as f:\n",
    "    datastore=json.load(f)"
   ]
  },
  {
   "cell_type": "code",
   "execution_count": 3,
   "metadata": {},
   "outputs": [],
   "source": [
    "Description=[]\n",
    "IsSafe=[]\n",
    "\n",
    "for item in datastore:\n",
    "    IsSafe.append(item[\"isSafe\"])\n",
    "    requests = item['req']\n",
    "    Description.append(requests['body']['note']['desc'])"
   ]
  },
  {
   "cell_type": "code",
   "execution_count": 4,
   "metadata": {},
   "outputs": [
    {
     "name": "stdout",
     "output_type": "stream",
     "text": [
      "['Top recognize eat. Fact whom spend area thing material.\\nWar no recent also message four billion. Water those deep.\\nWord amount table entire. Drug several the amount live newspaper.'\n",
      " 'As possible American many prepare four strong. Visit care be organization everyone kitchen development magazine. Range realize direction wife capital move.'\n",
      " 'Tuesday Notes or 2 like 2 XSP Class'\n",
      " 'State third represent energy campaign not forget there. Experience send these just heart suggest. Study paper common car kitchen it.\\nSuch time management tree. Real like agency rule.'\n",
      " 'Us enjoy since. Time identify image position ok here best. Box can throw yeah without.\\nLeft explain author protect throw artist lot fly. Thing year approach through miss bank.']\n",
      "[ True  True False  True False]\n"
     ]
    }
   ],
   "source": [
    "print(np.array(Description[:5]))\n",
    "print(np.array(IsSafe[:5]))"
   ]
  },
  {
   "cell_type": "markdown",
   "metadata": {},
   "source": [
    "## Creating a corpus"
   ]
  },
  {
   "cell_type": "code",
   "execution_count": 5,
   "metadata": {},
   "outputs": [],
   "source": [
    "corpus = []\n",
    "for i in range(0, len(Description)):\n",
    "    desc = re.sub('[^a-zA-Z]', ' ', Description[i])\n",
    "    desc = desc.lower()\n",
    "    desc = desc.split()\n",
    "    lemmatizer = WordNetLemmatizer()\n",
    "    desc = [lemmatizer.lemmatize(word) for word in desc if not word in set(stopwords.words('english'))]\n",
    "    desc = ' '.join(desc)\n",
    "    corpus.append(desc)"
   ]
  },
  {
   "cell_type": "markdown",
   "metadata": {},
   "source": [
    "## Creating the sequences"
   ]
  },
  {
   "cell_type": "code",
   "execution_count": 6,
   "metadata": {},
   "outputs": [],
   "source": [
    "tokenizer = Tokenizer(oov_token=\"OOV\")\n",
    "tokenizer.fit_on_texts(corpus)\n",
    "word_index=tokenizer.word_index\n",
    "\n",
    "sequence = tokenizer.texts_to_sequences(corpus)\n",
    "input_sequences= np.array(pad_sequences(sequence, maxlen=120, padding='pre'))\n"
   ]
  },
  {
   "cell_type": "code",
   "execution_count": 7,
   "metadata": {},
   "outputs": [],
   "source": [
    "X=np.array(input_sequences)"
   ]
  },
  {
   "cell_type": "code",
   "execution_count": 8,
   "metadata": {},
   "outputs": [],
   "source": [
    "labelencoder=LabelEncoder()\n",
    "y=labelencoder.fit_transform(IsSafe)"
   ]
  },
  {
   "cell_type": "markdown",
   "metadata": {},
   "source": [
    "## Checking class balance"
   ]
  },
  {
   "cell_type": "code",
   "execution_count": 9,
   "metadata": {},
   "outputs": [
    {
     "name": "stderr",
     "output_type": "stream",
     "text": [
      "C:\\Users\\Lenovo\\anaconda3\\envs\\Deep Learning\\lib\\site-packages\\seaborn\\_decorators.py:43: FutureWarning: Pass the following variable as a keyword arg: x. From version 0.12, the only valid positional argument will be `data`, and passing other arguments without an explicit keyword will result in an error or misinterpretation.\n",
      "  FutureWarning\n"
     ]
    },
    {
     "data": {
      "image/png": "[encoded data removed]",
      "text/plain": [
       "<Figure size 432x288 with 1 Axes>"
      ]
     },
     "metadata": {
      "needs_background": "light"
     },
     "output_type": "display_data"
    }
   ],
   "source": [
    "g = sns.countplot(y)\n",
    "g.set_xticklabels(['Unsafe','Safe'])\n",
    "plt.show()"
   ]
  },
  {
   "cell_type": "code",
   "execution_count": 10,
   "metadata": {},
   "outputs": [
    {
     "name": "stdout",
     "output_type": "stream",
     "text": [
      "428 572\n"
     ]
    }
   ],
   "source": [
    "d=Counter(y)\n",
    "print(d[0],d[1])"
   ]
  },
  {
   "cell_type": "markdown",
   "metadata": {},
   "source": [
    "##  Splitting the dataset into the Training set and Test set"
   ]
  },
  {
   "cell_type": "code",
   "execution_count": 11,
   "metadata": {},
   "outputs": [],
   "source": [
    "X_train, X_test, y_train, y_test = train_test_split(X, y, test_size = 0.20, random_state = 0)"
   ]
  },
  {
   "cell_type": "markdown",
   "metadata": {},
   "source": [
    "## Model training"
   ]
  },
  {
   "cell_type": "code",
   "execution_count": 12,
   "metadata": {},
   "outputs": [],
   "source": [
    "vocab_size = 10000\n",
    "embedding_dim = 16\n",
    "max_length = 120\n",
    "trunc_type='post'\n",
    "oov_tok = \"<OOV>\""
   ]
  },
  {
   "cell_type": "code",
   "execution_count": 13,
   "metadata": {},
   "outputs": [
    {
     "name": "stdout",
     "output_type": "stream",
     "text": [
      "Train on 800 samples, validate on 200 samples\n",
      "Epoch 1/100\n",
      "800/800 - 1s - loss: 0.6927 - accuracy: 0.5663 - val_loss: 0.6924 - val_accuracy: 0.5950\n",
      "Epoch 2/100\n",
      "800/800 - 0s - loss: 0.6927 - accuracy: 0.5663 - val_loss: 0.6924 - val_accuracy: 0.5950\n",
      "Epoch 3/100\n",
      "800/800 - 0s - loss: 0.6927 - accuracy: 0.5663 - val_loss: 0.6924 - val_accuracy: 0.5950\n",
      "Epoch 4/100\n",
      "800/800 - 0s - loss: 0.6927 - accuracy: 0.5663 - val_loss: 0.6924 - val_accuracy: 0.5950\n",
      "Epoch 5/100\n",
      "800/800 - 0s - loss: 0.6927 - accuracy: 0.5663 - val_loss: 0.6924 - val_accuracy: 0.5950\n",
      "Epoch 6/100\n",
      "800/800 - 0s - loss: 0.6927 - accuracy: 0.5663 - val_loss: 0.6924 - val_accuracy: 0.5950\n",
      "Epoch 7/100\n",
      "800/800 - 0s - loss: 0.6927 - accuracy: 0.5663 - val_loss: 0.6923 - val_accuracy: 0.5950\n",
      "Epoch 8/100\n",
      "800/800 - 0s - loss: 0.6927 - accuracy: 0.5663 - val_loss: 0.6923 - val_accuracy: 0.5950\n",
      "Epoch 9/100\n",
      "800/800 - 0s - loss: 0.6927 - accuracy: 0.5663 - val_loss: 0.6923 - val_accuracy: 0.5950\n",
      "Epoch 10/100\n",
      "800/800 - 0s - loss: 0.6927 - accuracy: 0.5663 - val_loss: 0.6923 - val_accuracy: 0.5950\n",
      "Epoch 11/100\n",
      "800/800 - 0s - loss: 0.6927 - accuracy: 0.5663 - val_loss: 0.6923 - val_accuracy: 0.5950\n",
      "Epoch 12/100\n",
      "800/800 - 0s - loss: 0.6927 - accuracy: 0.5663 - val_loss: 0.6923 - val_accuracy: 0.5950\n",
      "Epoch 13/100\n",
      "800/800 - 0s - loss: 0.6927 - accuracy: 0.5663 - val_loss: 0.6923 - val_accuracy: 0.5950\n",
      "Epoch 14/100\n",
      "800/800 - 0s - loss: 0.6927 - accuracy: 0.5663 - val_loss: 0.6923 - val_accuracy: 0.5950\n",
      "Epoch 15/100\n",
      "800/800 - 0s - loss: 0.6927 - accuracy: 0.5663 - val_loss: 0.6923 - val_accuracy: 0.5950\n",
      "Epoch 16/100\n",
      "800/800 - 0s - loss: 0.6927 - accuracy: 0.5663 - val_loss: 0.6923 - val_accuracy: 0.5950\n",
      "Epoch 17/100\n",
      "800/800 - 0s - loss: 0.6927 - accuracy: 0.5663 - val_loss: 0.6923 - val_accuracy: 0.5950\n",
      "Epoch 18/100\n",
      "800/800 - 0s - loss: 0.6927 - accuracy: 0.5663 - val_loss: 0.6923 - val_accuracy: 0.5950\n",
      "Epoch 19/100\n",
      "800/800 - 0s - loss: 0.6927 - accuracy: 0.5663 - val_loss: 0.6923 - val_accuracy: 0.5950\n",
      "Epoch 20/100\n",
      "800/800 - 0s - loss: 0.6927 - accuracy: 0.5663 - val_loss: 0.6923 - val_accuracy: 0.5950\n",
      "Epoch 21/100\n",
      "800/800 - 0s - loss: 0.6927 - accuracy: 0.5663 - val_loss: 0.6923 - val_accuracy: 0.5950\n",
      "Epoch 22/100\n",
      "800/800 - 0s - loss: 0.6927 - accuracy: 0.5663 - val_loss: 0.6923 - val_accuracy: 0.5950\n",
      "Epoch 23/100\n",
      "800/800 - 0s - loss: 0.6927 - accuracy: 0.5663 - val_loss: 0.6923 - val_accuracy: 0.5950\n",
      "Epoch 24/100\n",
      "800/800 - 0s - loss: 0.6926 - accuracy: 0.5663 - val_loss: 0.6923 - val_accuracy: 0.5950\n",
      "Epoch 25/100\n",
      "800/800 - 0s - loss: 0.6926 - accuracy: 0.5663 - val_loss: 0.6922 - val_accuracy: 0.5950\n",
      "Epoch 26/100\n",
      "800/800 - 0s - loss: 0.6926 - accuracy: 0.5663 - val_loss: 0.6922 - val_accuracy: 0.5950\n",
      "Epoch 27/100\n",
      "800/800 - 0s - loss: 0.6926 - accuracy: 0.5663 - val_loss: 0.6922 - val_accuracy: 0.5950\n",
      "Epoch 28/100\n",
      "800/800 - 0s - loss: 0.6926 - accuracy: 0.5663 - val_loss: 0.6922 - val_accuracy: 0.5950\n",
      "Epoch 29/100\n",
      "800/800 - 0s - loss: 0.6926 - accuracy: 0.5663 - val_loss: 0.6922 - val_accuracy: 0.5950\n",
      "Epoch 30/100\n",
      "800/800 - 0s - loss: 0.6926 - accuracy: 0.5663 - val_loss: 0.6922 - val_accuracy: 0.5950\n",
      "Epoch 31/100\n",
      "800/800 - 0s - loss: 0.6926 - accuracy: 0.5663 - val_loss: 0.6921 - val_accuracy: 0.5950\n",
      "Epoch 32/100\n",
      "800/800 - 0s - loss: 0.6925 - accuracy: 0.5663 - val_loss: 0.6921 - val_accuracy: 0.5950\n",
      "Epoch 33/100\n",
      "800/800 - 0s - loss: 0.6925 - accuracy: 0.5663 - val_loss: 0.6921 - val_accuracy: 0.5950\n",
      "Epoch 34/100\n",
      "800/800 - 0s - loss: 0.6925 - accuracy: 0.5663 - val_loss: 0.6920 - val_accuracy: 0.5950\n",
      "Epoch 35/100\n",
      "800/800 - 0s - loss: 0.6925 - accuracy: 0.5663 - val_loss: 0.6920 - val_accuracy: 0.5950\n",
      "Epoch 36/100\n",
      "800/800 - 0s - loss: 0.6924 - accuracy: 0.5663 - val_loss: 0.6920 - val_accuracy: 0.5950\n",
      "Epoch 37/100\n",
      "800/800 - 0s - loss: 0.6924 - accuracy: 0.5663 - val_loss: 0.6919 - val_accuracy: 0.5950\n",
      "Epoch 38/100\n",
      "800/800 - 0s - loss: 0.6924 - accuracy: 0.5663 - val_loss: 0.6919 - val_accuracy: 0.5950\n",
      "Epoch 39/100\n",
      "800/800 - 0s - loss: 0.6923 - accuracy: 0.5663 - val_loss: 0.6918 - val_accuracy: 0.5950\n",
      "Epoch 40/100\n",
      "800/800 - 0s - loss: 0.6923 - accuracy: 0.5663 - val_loss: 0.6917 - val_accuracy: 0.5950\n",
      "Epoch 41/100\n",
      "800/800 - 0s - loss: 0.6922 - accuracy: 0.5663 - val_loss: 0.6917 - val_accuracy: 0.5950\n",
      "Epoch 42/100\n",
      "800/800 - 0s - loss: 0.6922 - accuracy: 0.5663 - val_loss: 0.6916 - val_accuracy: 0.5950\n",
      "Epoch 43/100\n",
      "800/800 - 0s - loss: 0.6921 - accuracy: 0.5663 - val_loss: 0.6915 - val_accuracy: 0.5950\n",
      "Epoch 44/100\n",
      "800/800 - 0s - loss: 0.6921 - accuracy: 0.5663 - val_loss: 0.6914 - val_accuracy: 0.5950\n",
      "Epoch 45/100\n",
      "800/800 - 0s - loss: 0.6920 - accuracy: 0.5663 - val_loss: 0.6913 - val_accuracy: 0.5950\n",
      "Epoch 46/100\n",
      "800/800 - 0s - loss: 0.6919 - accuracy: 0.5663 - val_loss: 0.6911 - val_accuracy: 0.5950\n",
      "Epoch 47/100\n",
      "800/800 - 0s - loss: 0.6917 - accuracy: 0.5663 - val_loss: 0.6909 - val_accuracy: 0.5950\n",
      "Epoch 48/100\n",
      "800/800 - 0s - loss: 0.6916 - accuracy: 0.5663 - val_loss: 0.6907 - val_accuracy: 0.5950\n",
      "Epoch 49/100\n",
      "800/800 - 0s - loss: 0.6914 - accuracy: 0.5663 - val_loss: 0.6904 - val_accuracy: 0.5950\n",
      "Epoch 50/100\n",
      "800/800 - 0s - loss: 0.6912 - accuracy: 0.5663 - val_loss: 0.6901 - val_accuracy: 0.5950\n",
      "Epoch 51/100\n",
      "800/800 - 0s - loss: 0.6910 - accuracy: 0.5663 - val_loss: 0.6898 - val_accuracy: 0.5950\n",
      "Epoch 52/100\n",
      "800/800 - 0s - loss: 0.6908 - accuracy: 0.5663 - val_loss: 0.6894 - val_accuracy: 0.5950\n",
      "Epoch 53/100\n",
      "800/800 - 0s - loss: 0.6905 - accuracy: 0.5663 - val_loss: 0.6891 - val_accuracy: 0.5950\n",
      "Epoch 54/100\n",
      "800/800 - 0s - loss: 0.6903 - accuracy: 0.5663 - val_loss: 0.6886 - val_accuracy: 0.5950\n",
      "Epoch 55/100\n",
      "800/800 - 0s - loss: 0.6899 - accuracy: 0.5663 - val_loss: 0.6882 - val_accuracy: 0.5950\n",
      "Epoch 56/100\n",
      "800/800 - 0s - loss: 0.6896 - accuracy: 0.5663 - val_loss: 0.6877 - val_accuracy: 0.5950\n",
      "Epoch 57/100\n",
      "800/800 - 0s - loss: 0.6892 - accuracy: 0.5663 - val_loss: 0.6873 - val_accuracy: 0.5950\n",
      "Epoch 58/100\n",
      "800/800 - 0s - loss: 0.6889 - accuracy: 0.5663 - val_loss: 0.6865 - val_accuracy: 0.5950\n",
      "Epoch 59/100\n",
      "800/800 - 0s - loss: 0.6884 - accuracy: 0.5663 - val_loss: 0.6859 - val_accuracy: 0.5950\n",
      "Epoch 60/100\n",
      "800/800 - 0s - loss: 0.6879 - accuracy: 0.5663 - val_loss: 0.6851 - val_accuracy: 0.5950\n",
      "Epoch 61/100\n",
      "800/800 - 0s - loss: 0.6874 - accuracy: 0.5663 - val_loss: 0.6844 - val_accuracy: 0.5950\n",
      "Epoch 62/100\n",
      "800/800 - 0s - loss: 0.6869 - accuracy: 0.5663 - val_loss: 0.6836 - val_accuracy: 0.5950\n",
      "Epoch 63/100\n",
      "800/800 - 0s - loss: 0.6862 - accuracy: 0.5663 - val_loss: 0.6827 - val_accuracy: 0.5950\n",
      "Epoch 64/100\n",
      "800/800 - 0s - loss: 0.6856 - accuracy: 0.5663 - val_loss: 0.6817 - val_accuracy: 0.5950\n",
      "Epoch 65/100\n",
      "800/800 - 0s - loss: 0.6848 - accuracy: 0.5663 - val_loss: 0.6807 - val_accuracy: 0.5950\n",
      "Epoch 66/100\n",
      "800/800 - 0s - loss: 0.6840 - accuracy: 0.5663 - val_loss: 0.6794 - val_accuracy: 0.5950\n",
      "Epoch 67/100\n",
      "800/800 - 0s - loss: 0.6830 - accuracy: 0.5663 - val_loss: 0.6781 - val_accuracy: 0.5950\n",
      "Epoch 68/100\n",
      "800/800 - 0s - loss: 0.6821 - accuracy: 0.5663 - val_loss: 0.6764 - val_accuracy: 0.5950\n",
      "Epoch 69/100\n",
      "800/800 - 0s - loss: 0.6806 - accuracy: 0.5663 - val_loss: 0.6748 - val_accuracy: 0.5950\n",
      "Epoch 70/100\n",
      "800/800 - 0s - loss: 0.6789 - accuracy: 0.5663 - val_loss: 0.6732 - val_accuracy: 0.5950\n",
      "Epoch 71/100\n",
      "800/800 - 0s - loss: 0.6767 - accuracy: 0.5663 - val_loss: 0.6705 - val_accuracy: 0.5950\n",
      "Epoch 72/100\n",
      "800/800 - 0s - loss: 0.6738 - accuracy: 0.5663 - val_loss: 0.6675 - val_accuracy: 0.5950\n",
      "Epoch 73/100\n",
      "800/800 - 0s - loss: 0.6694 - accuracy: 0.5663 - val_loss: 0.6625 - val_accuracy: 0.5950\n",
      "Epoch 74/100\n",
      "800/800 - 0s - loss: 0.6628 - accuracy: 0.5663 - val_loss: 0.6559 - val_accuracy: 0.5950\n",
      "Epoch 75/100\n",
      "800/800 - 0s - loss: 0.6530 - accuracy: 0.5663 - val_loss: 0.6457 - val_accuracy: 0.5950\n",
      "Epoch 76/100\n",
      "800/800 - 0s - loss: 0.6392 - accuracy: 0.6363 - val_loss: 0.6316 - val_accuracy: 0.7450\n",
      "Epoch 77/100\n",
      "800/800 - 0s - loss: 0.6188 - accuracy: 0.7113 - val_loss: 0.6114 - val_accuracy: 0.7700\n",
      "Epoch 78/100\n",
      "800/800 - 0s - loss: 0.5917 - accuracy: 0.7962 - val_loss: 0.5848 - val_accuracy: 0.7700\n",
      "Epoch 79/100\n",
      "800/800 - 0s - loss: 0.5568 - accuracy: 0.8037 - val_loss: 0.5565 - val_accuracy: 0.8400\n",
      "Epoch 80/100\n",
      "800/800 - 0s - loss: 0.5168 - accuracy: 0.8288 - val_loss: 0.5256 - val_accuracy: 0.8400\n"
     ]
    },
    {
     "name": "stdout",
     "output_type": "stream",
     "text": [
      "Epoch 81/100\n",
      "800/800 - 0s - loss: 0.4656 - accuracy: 0.8288 - val_loss: 0.4942 - val_accuracy: 0.8400\n",
      "Epoch 82/100\n",
      "800/800 - 0s - loss: 0.4126 - accuracy: 0.8375 - val_loss: 0.4725 - val_accuracy: 0.8400\n",
      "Epoch 83/100\n",
      "800/800 - 0s - loss: 0.3674 - accuracy: 0.8462 - val_loss: 0.4613 - val_accuracy: 0.8400\n",
      "Epoch 84/100\n",
      "800/800 - 0s - loss: 0.3296 - accuracy: 0.8500 - val_loss: 0.4733 - val_accuracy: 0.7900\n",
      "Epoch 85/100\n",
      "800/800 - 0s - loss: 0.2921 - accuracy: 0.8788 - val_loss: 0.4698 - val_accuracy: 0.8250\n",
      "Epoch 86/100\n",
      "800/800 - 0s - loss: 0.2595 - accuracy: 0.8900 - val_loss: 0.5201 - val_accuracy: 0.8400\n",
      "Epoch 87/100\n",
      "800/800 - 0s - loss: 0.2253 - accuracy: 0.9087 - val_loss: 0.5152 - val_accuracy: 0.7900\n",
      "Epoch 88/100\n",
      "800/800 - 0s - loss: 0.1904 - accuracy: 0.9350 - val_loss: 0.5370 - val_accuracy: 0.7900\n",
      "Epoch 89/100\n",
      "800/800 - 0s - loss: 0.1618 - accuracy: 0.9588 - val_loss: 0.5745 - val_accuracy: 0.7950\n",
      "Epoch 90/100\n",
      "800/800 - 0s - loss: 0.1396 - accuracy: 0.9575 - val_loss: 0.6161 - val_accuracy: 0.7550\n",
      "Epoch 91/100\n",
      "800/800 - 0s - loss: 0.1039 - accuracy: 0.9812 - val_loss: 0.6623 - val_accuracy: 0.7650\n",
      "Epoch 92/100\n",
      "800/800 - 0s - loss: 0.0788 - accuracy: 0.9900 - val_loss: 0.7204 - val_accuracy: 0.7600\n",
      "Epoch 93/100\n",
      "800/800 - 0s - loss: 0.0577 - accuracy: 0.9987 - val_loss: 0.7858 - val_accuracy: 0.7600\n",
      "Epoch 94/100\n",
      "800/800 - 0s - loss: 0.0442 - accuracy: 0.9975 - val_loss: 0.8862 - val_accuracy: 0.7700\n",
      "Epoch 95/100\n",
      "800/800 - 0s - loss: 0.0293 - accuracy: 1.0000 - val_loss: 1.0073 - val_accuracy: 0.7700\n",
      "Epoch 96/100\n",
      "800/800 - 0s - loss: 0.0234 - accuracy: 1.0000 - val_loss: 1.0656 - val_accuracy: 0.7700\n",
      "Epoch 97/100\n",
      "800/800 - 0s - loss: 0.0120 - accuracy: 1.0000 - val_loss: 1.1474 - val_accuracy: 0.7600\n",
      "Epoch 98/100\n",
      "800/800 - 0s - loss: 0.0075 - accuracy: 1.0000 - val_loss: 1.2405 - val_accuracy: 0.7700\n",
      "Epoch 99/100\n",
      "800/800 - 0s - loss: 0.0051 - accuracy: 1.0000 - val_loss: 1.3176 - val_accuracy: 0.7700\n",
      "Epoch 100/100\n",
      "800/800 - 0s - loss: 0.0034 - accuracy: 1.0000 - val_loss: 1.3756 - val_accuracy: 0.7650\n"
     ]
    }
   ],
   "source": [
    "lr_schedule = tf.keras.callbacks.LearningRateScheduler(\n",
    "    lambda epoch: 1e-7* 10**(epoch / 20))\n",
    "    \n",
    "opt = tf.keras.optimizers.Adam(learning_rate=1e-7)\n",
    "model = tf.keras.Sequential([\n",
    "tf.keras.layers.Embedding(vocab_size, embedding_dim, input_length=max_length),\n",
    "tf.keras.layers.GlobalAveragePooling1D(),\n",
    "tf.keras.layers.Dense(24, activation='relu'),\n",
    "tf.keras.layers.Dense(1, activation='sigmoid')\n",
    "])\n",
    "model.compile(loss='binary_crossentropy',optimizer=opt,metrics=['accuracy'])\n",
    "history = model.fit(X_train,y_train, epochs=100, validation_data=(X_test, y_test),\n",
    "                    verbose=2,callbacks=[lr_schedule])"
   ]
  },
  {
   "cell_type": "code",
   "execution_count": 14,
   "metadata": {},
   "outputs": [
    {
     "data": {
      "text/plain": [
       "Text(0, 0.5, 'Loss')"
      ]
     },
     "execution_count": 14,
     "metadata": {},
     "output_type": "execute_result"
    },
    {
     "data": {
      "image/png": "[encoded data removed]",
      "text/plain": [
       "<Figure size 432x288 with 1 Axes>"
      ]
     },
     "metadata": {
      "needs_background": "light"
     },
     "output_type": "display_data"
    }
   ],
   "source": [
    "# FROM THIS PICK A LEARNING RATE\n",
    "plt.semilogx(history.history[\"lr\"], history.history[\"loss\"])\n",
    "plt.axis([1e-7,1e-2, 0, 1])\n",
    "plt.xlabel(\"Learning Rate\")\n",
    "plt.ylabel(\"Loss\")"
   ]
  },
  {
   "cell_type": "markdown",
   "metadata": {},
   "source": [
    "## To remove overfitting: Optimize Learning rate, introduce Dropout Layer  and L2 regularizer"
   ]
  },
  {
   "cell_type": "code",
   "execution_count": 15,
   "metadata": {},
   "outputs": [
    {
     "name": "stdout",
     "output_type": "stream",
     "text": [
      "Train on 800 samples, validate on 200 samples\n",
      "Epoch 1/100\n",
      "800/800 [==============================] - 1s 1ms/sample - loss: 4.0822 - accuracy: 0.5713 - val_loss: 3.7321 - val_accuracy: 0.5950\n",
      "Epoch 2/100\n",
      "800/800 [==============================] - 0s 172us/sample - loss: 3.4488 - accuracy: 0.5663 - val_loss: 3.1558 - val_accuracy: 0.5950\n",
      "Epoch 3/100\n",
      "800/800 [==============================] - 0s 172us/sample - loss: 2.9230 - accuracy: 0.5663 - val_loss: 2.6815 - val_accuracy: 0.5950\n",
      "Epoch 4/100\n",
      "800/800 [==============================] - 0s 172us/sample - loss: 2.4926 - accuracy: 0.5663 - val_loss: 2.2920 - val_accuracy: 0.5950\n",
      "Epoch 5/100\n",
      "800/800 [==============================] - 0s 176us/sample - loss: 2.1393 - accuracy: 0.5663 - val_loss: 1.9741 - val_accuracy: 0.5950\n",
      "Epoch 6/100\n",
      "800/800 [==============================] - 0s 172us/sample - loss: 1.8501 - accuracy: 0.5663 - val_loss: 1.7134 - val_accuracy: 0.5950\n",
      "Epoch 7/100\n",
      "800/800 [==============================] - 0s 175us/sample - loss: 1.6133 - accuracy: 0.5663 - val_loss: 1.5015 - val_accuracy: 0.5950\n",
      "Epoch 8/100\n",
      "800/800 [==============================] - 0s 171us/sample - loss: 1.4206 - accuracy: 0.5663 - val_loss: 1.3292 - val_accuracy: 0.5950\n",
      "Epoch 9/100\n",
      "800/800 [==============================] - 0s 178us/sample - loss: 1.2651 - accuracy: 0.5663 - val_loss: 1.1897 - val_accuracy: 0.5950\n",
      "Epoch 10/100\n",
      "800/800 [==============================] - 0s 180us/sample - loss: 1.1389 - accuracy: 0.5663 - val_loss: 1.0775 - val_accuracy: 0.5950\n",
      "Epoch 11/100\n",
      "800/800 [==============================] - 0s 175us/sample - loss: 1.0398 - accuracy: 0.5663 - val_loss: 0.9878 - val_accuracy: 0.5950\n",
      "Epoch 12/100\n",
      "800/800 [==============================] - 0s 181us/sample - loss: 0.9591 - accuracy: 0.5663 - val_loss: 0.9171 - val_accuracy: 0.5950\n",
      "Epoch 13/100\n",
      "800/800 [==============================] - 0s 160us/sample - loss: 0.8955 - accuracy: 0.5663 - val_loss: 0.8608 - val_accuracy: 0.5950\n",
      "Epoch 14/100\n",
      "800/800 [==============================] - 0s 177us/sample - loss: 0.8443 - accuracy: 0.5663 - val_loss: 0.8163 - val_accuracy: 0.5950\n",
      "Epoch 15/100\n",
      "800/800 [==============================] - 0s 173us/sample - loss: 0.8062 - accuracy: 0.5663 - val_loss: 0.7821 - val_accuracy: 0.5950\n",
      "Epoch 16/100\n",
      "800/800 [==============================] - 0s 173us/sample - loss: 0.7747 - accuracy: 0.5663 - val_loss: 0.7558 - val_accuracy: 0.5950\n",
      "Epoch 17/100\n",
      "800/800 [==============================] - 0s 185us/sample - loss: 0.7497 - accuracy: 0.5663 - val_loss: 0.7347 - val_accuracy: 0.5950\n",
      "Epoch 18/100\n",
      "800/800 [==============================] - 0s 171us/sample - loss: 0.7333 - accuracy: 0.5663 - val_loss: 0.7190 - val_accuracy: 0.5950\n",
      "Epoch 19/100\n",
      "800/800 [==============================] - 0s 185us/sample - loss: 0.7187 - accuracy: 0.5663 - val_loss: 0.7068 - val_accuracy: 0.5950\n",
      "Epoch 20/100\n",
      "800/800 [==============================] - 0s 183us/sample - loss: 0.7091 - accuracy: 0.5663 - val_loss: 0.6980 - val_accuracy: 0.5950\n",
      "Epoch 21/100\n",
      "800/800 [==============================] - 0s 183us/sample - loss: 0.7006 - accuracy: 0.5663 - val_loss: 0.6912 - val_accuracy: 0.5950\n",
      "Epoch 22/100\n",
      "800/800 [==============================] - 0s 181us/sample - loss: 0.6943 - accuracy: 0.5663 - val_loss: 0.6853 - val_accuracy: 0.5950\n",
      "Epoch 23/100\n",
      "800/800 [==============================] - 0s 171us/sample - loss: 0.6902 - accuracy: 0.5663 - val_loss: 0.6822 - val_accuracy: 0.5950\n",
      "Epoch 24/100\n",
      "800/800 [==============================] - 0s 183us/sample - loss: 0.6860 - accuracy: 0.5663 - val_loss: 0.6788 - val_accuracy: 0.5950\n",
      "Epoch 25/100\n",
      "800/800 [==============================] - 0s 172us/sample - loss: 0.6825 - accuracy: 0.5663 - val_loss: 0.6764 - val_accuracy: 0.5950\n",
      "Epoch 26/100\n",
      "800/800 [==============================] - 0s 174us/sample - loss: 0.6810 - accuracy: 0.5663 - val_loss: 0.6742 - val_accuracy: 0.5950\n",
      "Epoch 27/100\n",
      "800/800 [==============================] - 0s 186us/sample - loss: 0.6780 - accuracy: 0.5663 - val_loss: 0.6728 - val_accuracy: 0.5950\n",
      "Epoch 28/100\n",
      "800/800 [==============================] - 0s 169us/sample - loss: 0.6772 - accuracy: 0.5663 - val_loss: 0.6710 - val_accuracy: 0.5950\n",
      "Epoch 29/100\n",
      "800/800 [==============================] - 0s 187us/sample - loss: 0.6743 - accuracy: 0.5663 - val_loss: 0.6688 - val_accuracy: 0.5950\n",
      "Epoch 30/100\n",
      "800/800 [==============================] - 0s 182us/sample - loss: 0.6711 - accuracy: 0.5675 - val_loss: 0.6672 - val_accuracy: 0.5950\n",
      "Epoch 31/100\n",
      "800/800 [==============================] - 0s 172us/sample - loss: 0.6677 - accuracy: 0.6012 - val_loss: 0.6656 - val_accuracy: 0.5950\n",
      "Epoch 32/100\n",
      "800/800 [==============================] - 0s 173us/sample - loss: 0.6668 - accuracy: 0.5938 - val_loss: 0.6628 - val_accuracy: 0.5950\n",
      "Epoch 33/100\n",
      "800/800 [==============================] - 0s 187us/sample - loss: 0.6643 - accuracy: 0.6100 - val_loss: 0.6597 - val_accuracy: 0.5950\n",
      "Epoch 34/100\n",
      "800/800 [==============================] - 0s 150us/sample - loss: 0.6590 - accuracy: 0.6888 - val_loss: 0.6583 - val_accuracy: 0.7450\n",
      "Epoch 35/100\n",
      "800/800 [==============================] - 0s 202us/sample - loss: 0.6551 - accuracy: 0.7188 - val_loss: 0.6544 - val_accuracy: 0.7700\n",
      "Epoch 36/100\n",
      "800/800 [==============================] - 0s 180us/sample - loss: 0.6513 - accuracy: 0.7163 - val_loss: 0.6509 - val_accuracy: 0.7700\n",
      "Epoch 37/100\n",
      "800/800 [==============================] - 0s 172us/sample - loss: 0.6438 - accuracy: 0.7688 - val_loss: 0.6468 - val_accuracy: 0.8350\n",
      "Epoch 38/100\n",
      "800/800 [==============================] - 0s 147us/sample - loss: 0.6391 - accuracy: 0.7713 - val_loss: 0.6410 - val_accuracy: 0.7900\n",
      "Epoch 39/100\n",
      "800/800 [==============================] - 0s 165us/sample - loss: 0.6378 - accuracy: 0.7925 - val_loss: 0.6369 - val_accuracy: 0.8400\n",
      "Epoch 40/100\n",
      "800/800 [==============================] - 0s 166us/sample - loss: 0.6271 - accuracy: 0.7962 - val_loss: 0.6331 - val_accuracy: 0.8400\n",
      "Epoch 41/100\n",
      "800/800 [==============================] - 0s 147us/sample - loss: 0.6220 - accuracy: 0.8138 - val_loss: 0.6268 - val_accuracy: 0.8400\n",
      "Epoch 42/100\n",
      "800/800 [==============================] - 0s 179us/sample - loss: 0.6170 - accuracy: 0.8075 - val_loss: 0.6224 - val_accuracy: 0.8400\n",
      "Epoch 43/100\n",
      "800/800 [==============================] - 0s 152us/sample - loss: 0.6058 - accuracy: 0.8263 - val_loss: 0.6178 - val_accuracy: 0.8400\n",
      "Epoch 44/100\n",
      "800/800 [==============================] - 0s 167us/sample - loss: 0.6046 - accuracy: 0.8125 - val_loss: 0.6117 - val_accuracy: 0.8400\n",
      "Epoch 45/100\n",
      "800/800 [==============================] - 0s 179us/sample - loss: 0.5910 - accuracy: 0.8225 - val_loss: 0.6068 - val_accuracy: 0.8400\n",
      "Epoch 46/100\n",
      "800/800 [==============================] - 0s 148us/sample - loss: 0.5885 - accuracy: 0.8213 - val_loss: 0.6041 - val_accuracy: 0.8400\n",
      "Epoch 47/100\n",
      "800/800 [==============================] - 0s 185us/sample - loss: 0.5765 - accuracy: 0.8225 - val_loss: 0.5972 - val_accuracy: 0.8400\n",
      "Epoch 48/100\n",
      "800/800 [==============================] - 0s 176us/sample - loss: 0.5682 - accuracy: 0.8338 - val_loss: 0.5917 - val_accuracy: 0.8400\n",
      "Epoch 49/100\n",
      "800/800 [==============================] - 0s 178us/sample - loss: 0.5623 - accuracy: 0.8288 - val_loss: 0.5905 - val_accuracy: 0.8400\n",
      "Epoch 50/100\n",
      "800/800 [==============================] - 0s 171us/sample - loss: 0.5570 - accuracy: 0.8263 - val_loss: 0.5828 - val_accuracy: 0.8400\n",
      "Epoch 51/100\n",
      "800/800 [==============================] - 0s 167us/sample - loss: 0.5533 - accuracy: 0.8238 - val_loss: 0.5851 - val_accuracy: 0.8350\n",
      "Epoch 52/100\n",
      "800/800 [==============================] - 0s 150us/sample - loss: 0.5506 - accuracy: 0.8275 - val_loss: 0.5781 - val_accuracy: 0.8400\n",
      "Epoch 53/100\n",
      "800/800 [==============================] - 0s 174us/sample - loss: 0.5480 - accuracy: 0.8263 - val_loss: 0.5727 - val_accuracy: 0.8400\n",
      "Epoch 54/100\n",
      "800/800 [==============================] - 0s 157us/sample - loss: 0.5352 - accuracy: 0.8263 - val_loss: 0.5688 - val_accuracy: 0.8400\n",
      "Epoch 55/100\n",
      "800/800 [==============================] - 0s 166us/sample - loss: 0.5232 - accuracy: 0.8350 - val_loss: 0.5667 - val_accuracy: 0.8400\n",
      "Epoch 56/100\n"
     ]
    },
    {
     "name": "stdout",
     "output_type": "stream",
     "text": [
      "800/800 [==============================] - 0s 190us/sample - loss: 0.5243 - accuracy: 0.8338 - val_loss: 0.5609 - val_accuracy: 0.8400\n",
      "Epoch 57/100\n",
      "800/800 [==============================] - 0s 163us/sample - loss: 0.5225 - accuracy: 0.8325 - val_loss: 0.5608 - val_accuracy: 0.8400\n",
      "Epoch 58/100\n",
      "800/800 [==============================] - 0s 163us/sample - loss: 0.5100 - accuracy: 0.8363 - val_loss: 0.5574 - val_accuracy: 0.8400\n",
      "Epoch 59/100\n",
      "800/800 [==============================] - 0s 147us/sample - loss: 0.5091 - accuracy: 0.8350 - val_loss: 0.5552 - val_accuracy: 0.8400\n",
      "Epoch 60/100\n",
      "800/800 [==============================] - 0s 162us/sample - loss: 0.5076 - accuracy: 0.8325 - val_loss: 0.5510 - val_accuracy: 0.8400\n",
      "Epoch 61/100\n",
      "800/800 [==============================] - 0s 147us/sample - loss: 0.5019 - accuracy: 0.8288 - val_loss: 0.5517 - val_accuracy: 0.8350\n",
      "Epoch 62/100\n",
      "800/800 [==============================] - 0s 183us/sample - loss: 0.5044 - accuracy: 0.8388 - val_loss: 0.5475 - val_accuracy: 0.8400\n",
      "Epoch 63/100\n",
      "800/800 [==============================] - 0s 147us/sample - loss: 0.4951 - accuracy: 0.8413 - val_loss: 0.5523 - val_accuracy: 0.8250\n",
      "Epoch 64/100\n",
      "800/800 [==============================] - 0s 163us/sample - loss: 0.4929 - accuracy: 0.8338 - val_loss: 0.5394 - val_accuracy: 0.8400\n",
      "Epoch 65/100\n",
      "800/800 [==============================] - 0s 147us/sample - loss: 0.4860 - accuracy: 0.8375 - val_loss: 0.5420 - val_accuracy: 0.8350\n",
      "Epoch 66/100\n",
      "800/800 [==============================] - 0s 164us/sample - loss: 0.4872 - accuracy: 0.8338 - val_loss: 0.5403 - val_accuracy: 0.8350\n",
      "Epoch 67/100\n",
      "800/800 [==============================] - 0s 147us/sample - loss: 0.4804 - accuracy: 0.8363 - val_loss: 0.5357 - val_accuracy: 0.8400\n",
      "Epoch 68/100\n",
      "800/800 [==============================] - 0s 163us/sample - loss: 0.4676 - accuracy: 0.8300 - val_loss: 0.5358 - val_accuracy: 0.8400\n",
      "Epoch 69/100\n",
      "800/800 [==============================] - 0s 148us/sample - loss: 0.4696 - accuracy: 0.8400 - val_loss: 0.5377 - val_accuracy: 0.8350\n",
      "Epoch 70/100\n",
      "800/800 [==============================] - 0s 163us/sample - loss: 0.4681 - accuracy: 0.8462 - val_loss: 0.5333 - val_accuracy: 0.8350\n",
      "Epoch 71/100\n",
      "800/800 [==============================] - 0s 147us/sample - loss: 0.4559 - accuracy: 0.8537 - val_loss: 0.5302 - val_accuracy: 0.8400\n",
      "Epoch 72/100\n",
      "800/800 [==============================] - 0s 184us/sample - loss: 0.4554 - accuracy: 0.8438 - val_loss: 0.5309 - val_accuracy: 0.8350\n",
      "Epoch 73/100\n",
      "800/800 [==============================] - 0s 146us/sample - loss: 0.4583 - accuracy: 0.8400 - val_loss: 0.5334 - val_accuracy: 0.8350\n",
      "Epoch 74/100\n",
      "800/800 [==============================] - 0s 165us/sample - loss: 0.4632 - accuracy: 0.8388 - val_loss: 0.5270 - val_accuracy: 0.8400\n",
      "Epoch 75/100\n",
      "800/800 [==============================] - 0s 146us/sample - loss: 0.4470 - accuracy: 0.8575 - val_loss: 0.5254 - val_accuracy: 0.8400\n",
      "Epoch 76/100\n",
      "800/800 [==============================] - 0s 162us/sample - loss: 0.4485 - accuracy: 0.8450 - val_loss: 0.5295 - val_accuracy: 0.8350\n",
      "Epoch 77/100\n",
      "800/800 [==============================] - 0s 166us/sample - loss: 0.4438 - accuracy: 0.8400 - val_loss: 0.5247 - val_accuracy: 0.8350\n",
      "Epoch 78/100\n",
      "800/800 [==============================] - 0s 146us/sample - loss: 0.4434 - accuracy: 0.8363 - val_loss: 0.5260 - val_accuracy: 0.8350\n",
      "Epoch 79/100\n",
      "800/800 [==============================] - 0s 167us/sample - loss: 0.4411 - accuracy: 0.8438 - val_loss: 0.5277 - val_accuracy: 0.8350\n",
      "Epoch 80/100\n",
      "800/800 [==============================] - 0s 165us/sample - loss: 0.4447 - accuracy: 0.8363 - val_loss: 0.5254 - val_accuracy: 0.8350\n",
      "Epoch 81/100\n",
      "800/800 [==============================] - 0s 166us/sample - loss: 0.4364 - accuracy: 0.8413 - val_loss: 0.5242 - val_accuracy: 0.8350\n",
      "Epoch 82/100\n",
      "800/800 [==============================] - 0s 164us/sample - loss: 0.4414 - accuracy: 0.8300 - val_loss: 0.5195 - val_accuracy: 0.8350\n",
      "Epoch 83/100\n",
      "800/800 [==============================] - 0s 230us/sample - loss: 0.4358 - accuracy: 0.8363 - val_loss: 0.5223 - val_accuracy: 0.8350\n",
      "Epoch 84/100\n",
      "800/800 [==============================] - 0s 203us/sample - loss: 0.4302 - accuracy: 0.8438 - val_loss: 0.5196 - val_accuracy: 0.8350\n",
      "Epoch 85/100\n",
      "800/800 [==============================] - 0s 174us/sample - loss: 0.4252 - accuracy: 0.8487 - val_loss: 0.5158 - val_accuracy: 0.8400\n",
      "Epoch 86/100\n",
      "800/800 [==============================] - 0s 158us/sample - loss: 0.4256 - accuracy: 0.8525 - val_loss: 0.5213 - val_accuracy: 0.8350\n",
      "Epoch 87/100\n",
      "800/800 [==============================] - 0s 163us/sample - loss: 0.4214 - accuracy: 0.8450 - val_loss: 0.5218 - val_accuracy: 0.8350\n",
      "Epoch 88/100\n",
      "800/800 [==============================] - 0s 168us/sample - loss: 0.4201 - accuracy: 0.8537 - val_loss: 0.5246 - val_accuracy: 0.8250\n",
      "Epoch 89/100\n",
      "800/800 [==============================] - 0s 153us/sample - loss: 0.4127 - accuracy: 0.8537 - val_loss: 0.5141 - val_accuracy: 0.8400\n",
      "Epoch 90/100\n",
      "800/800 [==============================] - 0s 153us/sample - loss: 0.4157 - accuracy: 0.8400 - val_loss: 0.5197 - val_accuracy: 0.8350\n",
      "Epoch 91/100\n",
      "800/800 [==============================] - 0s 163us/sample - loss: 0.4157 - accuracy: 0.8425 - val_loss: 0.5185 - val_accuracy: 0.8350\n",
      "Epoch 92/100\n",
      "800/800 [==============================] - 0s 147us/sample - loss: 0.4073 - accuracy: 0.8637 - val_loss: 0.5231 - val_accuracy: 0.8250\n",
      "Epoch 93/100\n",
      "800/800 [==============================] - 0s 165us/sample - loss: 0.4097 - accuracy: 0.8550 - val_loss: 0.5148 - val_accuracy: 0.8350\n",
      "Epoch 94/100\n",
      "800/800 [==============================] - 0s 160us/sample - loss: 0.4089 - accuracy: 0.8500 - val_loss: 0.5189 - val_accuracy: 0.8350\n",
      "Epoch 95/100\n",
      "800/800 [==============================] - 0s 151us/sample - loss: 0.4025 - accuracy: 0.8575 - val_loss: 0.5135 - val_accuracy: 0.8350\n",
      "Epoch 96/100\n",
      "800/800 [==============================] - 0s 164us/sample - loss: 0.4058 - accuracy: 0.8525 - val_loss: 0.5188 - val_accuracy: 0.8350\n",
      "Epoch 97/100\n",
      "800/800 [==============================] - 0s 200us/sample - loss: 0.4065 - accuracy: 0.8537 - val_loss: 0.5245 - val_accuracy: 0.8250\n",
      "Epoch 98/100\n",
      "800/800 [==============================] - 0s 176us/sample - loss: 0.4020 - accuracy: 0.8575 - val_loss: 0.5171 - val_accuracy: 0.8400\n",
      "Epoch 99/100\n",
      "800/800 [==============================] - 0s 175us/sample - loss: 0.3945 - accuracy: 0.8625 - val_loss: 0.5158 - val_accuracy: 0.8400\n",
      "Epoch 100/100\n",
      "800/800 [==============================] - 0s 162us/sample - loss: 0.3872 - accuracy: 0.8637 - val_loss: 0.5192 - val_accuracy: 0.8250\n"
     ]
    }
   ],
   "source": [
    "opt = tf.keras.optimizers.Adam(learning_rate=1e-3)\n",
    "    \n",
    "opt_model = tf.keras.Sequential([\n",
    "tf.keras.layers.Embedding(vocab_size, embedding_dim, input_length=max_length),\n",
    "tf.keras.layers.GlobalAveragePooling1D(),\n",
    "tf.keras.layers.Dense(24, activation='relu', kernel_regularizer=l2(0.2)),\n",
    "tf.keras.layers.Dropout(0.2),\n",
    "tf.keras.layers.Dense(1, activation='sigmoid')\n",
    "])\n",
    "opt_model.compile(optimizer=opt, loss=\"binary_crossentropy\", metrics=[\"accuracy\"])\n",
    "final_model=opt_model.fit(X_train, y_train,epochs=100,validation_data=(X_test,y_test))"
   ]
  },
  {
   "cell_type": "markdown",
   "metadata": {},
   "source": [
    "## Prediction"
   ]
  },
  {
   "cell_type": "code",
   "execution_count": 16,
   "metadata": {},
   "outputs": [],
   "source": [
    "y_pred=opt_model.predict_classes(X_test)"
   ]
  },
  {
   "cell_type": "markdown",
   "metadata": {},
   "source": [
    "## Model and Evaluation"
   ]
  },
  {
   "cell_type": "code",
   "execution_count": 17,
   "metadata": {},
   "outputs": [
    {
     "name": "stdout",
     "output_type": "stream",
     "text": [
      "              precision    recall  f1-score   support\n",
      "\n",
      "      Unsafe       0.93      0.62      0.74        81\n",
      "        Safe       0.79      0.97      0.87       119\n",
      "\n",
      "    accuracy                           0.82       200\n",
      "   macro avg       0.86      0.79      0.80       200\n",
      "weighted avg       0.84      0.82      0.82       200\n",
      "\n"
     ]
    }
   ],
   "source": [
    "target_names = ['Unsafe', 'Safe']\n",
    "print(classification_report(y_test, y_pred, target_names=target_names))"
   ]
  },
  {
   "cell_type": "code",
   "execution_count": 18,
   "metadata": {},
   "outputs": [
    {
     "name": "stdout",
     "output_type": "stream",
     "text": [
      "800/800 [==============================] - 0s 220us/sample - loss: 0.3799 - accuracy: 0.8637\n",
      "200/200 [==============================] - 0s 80us/sample - loss: 0.5192 - accuracy: 0.8250\n",
      "[0.37990354299545287, 0.86375] [0.5191754221916198, 0.825]\n"
     ]
    }
   ],
   "source": [
    "train_acc = opt_model.evaluate(X_train, y_train)\n",
    "test_acc = opt_model.evaluate(X_test,y_test)\n",
    "print(train_acc, test_acc)"
   ]
  },
  {
   "cell_type": "markdown",
   "metadata": {},
   "source": [
    "## Data visualization"
   ]
  },
  {
   "cell_type": "code",
   "execution_count": 19,
   "metadata": {},
   "outputs": [],
   "source": [
    "loss_train = final_model.history['loss']\n",
    "loss_val = final_model.history['val_loss']\n",
    "epochs=range(len(loss_train)) \n",
    "\n",
    "def plot_loss(training_loss,testing_loss):    \n",
    "\n",
    "    plt.plot(epochs, training_loss, 'g', label='Training loss')\n",
    "    plt.plot(epochs, testing_loss, 'b', label='validation loss')\n",
    "    plt.title('Training and Validation loss')\n",
    "    plt.xlabel('Epochs')\n",
    "    plt.ylabel('Loss')\n",
    "    plt.legend()\n",
    "    plt.grid(True)\n",
    "    plt.show()"
   ]
  },
  {
   "cell_type": "code",
   "execution_count": 20,
   "metadata": {},
   "outputs": [
    {
     "data": {
      "image/png": "[encoded data removed]",
      "text/plain": [
       "<Figure size 720x432 with 1 Axes>"
      ]
     },
     "metadata": {
      "needs_background": "light"
     },
     "output_type": "display_data"
    }
   ],
   "source": [
    "plt.figure(figsize=(10,6))\n",
    "plot_loss(loss_train,loss_val)"
   ]
  },
  {
   "cell_type": "code",
   "execution_count": 21,
   "metadata": {},
   "outputs": [],
   "source": [
    "acc_train = final_model.history['accuracy']\n",
    "acc_val = final_model.history['val_accuracy']\n",
    "\n",
    "\n",
    "def plot_accuracy(training_acc,testing_acc):    \n",
    "\n",
    "    plt.plot(epochs, training_acc, 'g', label='Training Accuracy')\n",
    "    plt.plot(epochs, testing_acc, 'b', label='validation Accuracy')\n",
    "    plt.title('Training and Validation Accuracy')\n",
    "    plt.xlabel('Epochs')\n",
    "    plt.ylabel('Accuracy')\n",
    "    plt.legend()\n",
    "    plt.grid(True)\n",
    "    plt.show()"
   ]
  },
  {
   "cell_type": "code",
   "execution_count": 22,
   "metadata": {},
   "outputs": [
    {
     "data": {
      "image/png": "[encoded data removed]",
      "text/plain": [
       "<Figure size 720x432 with 1 Axes>"
      ]
     },
     "metadata": {
      "needs_background": "light"
     },
     "output_type": "display_data"
    }
   ],
   "source": [
    "plt.figure(figsize=(10,6))\n",
    "plot_accuracy(acc_train,acc_val)"
   ]
  }
 ],
 "metadata": {
  "kernelspec": {
   "display_name": "Python 3",
   "language": "python",
   "name": "python3"
  },
  "language_info": {
   "codemirror_mode": {
    "name": "ipython",
    "version": 3
   },
   "file_extension": ".py",
   "mimetype": "text/x-python",
   "name": "python",
   "nbconvert_exporter": "python",
   "pygments_lexer": "ipython3",
   "version": "3.7.9"
  }
 },
 "nbformat": 4,
 "nbformat_minor": 4
}
